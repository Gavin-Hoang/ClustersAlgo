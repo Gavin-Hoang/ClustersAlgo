{
 "cells": [
  {
   "cell_type": "code",
   "execution_count": 1,
   "metadata": {
    "collapsed": true
   },
   "outputs": [],
   "source": [
    "import numpy as np\n",
    "import math"
   ]
  },
  {
   "cell_type": "code",
   "execution_count": 2,
   "metadata": {
    "collapsed": true
   },
   "outputs": [],
   "source": [
    "data_points = np.array([[3.600, 79], [1.800, 54], [2.283, 62], [3.333, 74], [2.883, 55], \n",
    "               [4.533, 85],[1.950,51], [1.833,54], [4.700,88], [3.600, 85], [1.600, 52], [4.350,85],[3.917,84], \n",
    "               [4.200,78], [1.750,62], [1.800,51], [4.700,83], [2.167, 52],[4.800, 84], [1.750, 47]])"
   ]
  },
  {
   "cell_type": "code",
   "execution_count": 3,
   "metadata": {},
   "outputs": [
    {
     "name": "stdout",
     "output_type": "stream",
     "text": [
      "20\n",
      "<class 'numpy.ndarray'>\n"
     ]
    }
   ],
   "source": [
    "print(len(data_points))\n",
    "print(type(data_points))"
   ]
  },
  {
   "cell_type": "code",
   "execution_count": null,
   "metadata": {},
   "outputs": [],
   "source": []
  },
  {
   "cell_type": "code",
   "execution_count": 47,
   "metadata": {},
   "outputs": [],
   "source": [
    "def EuclideanDistance(x, y): \n",
    "    S = 0; #  The sum of the squared differences of the elements \n",
    "    for i in range(len(x)): \n",
    "        S += math.pow(x[i]-y[i], 2); \n",
    "    return S\n",
    "  \n",
    "    return math.sqrt(S); #The square root of the sum \n",
    "def k_mean(k, data_points, iterations):\n",
    "    #initialize\n",
    "    # let a1...am be the min of the mth component, where m is the length of a coord. Ex, here m = 2\n",
    "    # let A1..Am be the max of the mth component\n",
    "    a = []\n",
    "    A = []\n",
    "    m = len(data_points[0])\n",
    "    for i in range(m): # get the length of each vector\n",
    "        min_v = data_points[0][i]\n",
    "        max_v = data_points[0][i]\n",
    "        for j in range(len(data_points)):\n",
    "            if min_v > data_points[j][i]:\n",
    "                min_v = data_points[j][i]\n",
    "            elif max_v < data_points[j][i]:\n",
    "                max_v = data_points[j][i]\n",
    "        a.append(min_v)\n",
    "        A.append(max_v)\n",
    "    print(\"min: \", a)\n",
    "    print(\"Max: \", A)\n",
    "    a_tilt = []\n",
    "    for i in range(m):\n",
    "        a_tilt.append( (A[i] - a[i]) / (k + 1) )\n",
    "    print(\"a_tilt: \", a_tilt)\n",
    "    centroids = []\n",
    "    l = 1\n",
    "    while l <= k:\n",
    "        centroid = []\n",
    "        for i in range(m):\n",
    "            centroid.append(a[i] + l * a_tilt[i])\n",
    "        centroids.append(centroid) # append k times so we will have k centroids/clusters\n",
    "        l += 1\n",
    "    print(\"centroids:\", centroids)\n",
    "    \n",
    "    it = 0\n",
    "    clusters = [[] for i in range(k)]\n",
    "    while(it < iterations):\n",
    "        for point in data_points:\n",
    "            min_dis = math.inf\n",
    "            min_dis_index = 0\n",
    "            for centroid_index in range(len(centroids)):\n",
    "                dis = EuclideanDistance(point, centroids[centroid_index])\n",
    "                if min_dis > dis:\n",
    "                    min_dis = dis\n",
    "                    min_dis_index = centroid_index # assign the current point into this centroid/cluster\n",
    "            clusters[min_dis_index].append(point)\n",
    "        it += 1  \n",
    "    print(\"returning clusters....\")        \n",
    "    return clusters           "
   ]
  },
  {
   "cell_type": "code",
   "execution_count": 48,
   "metadata": {},
   "outputs": [
    {
     "name": "stdout",
     "output_type": "stream",
     "text": [
      "min:  [1.6, 47.0]\n",
      "Max:  [4.8, 88.0]\n",
      "a_tilt:  [1.0666666666666667, 13.666666666666666]\n",
      "centroids: [[2.666666666666667, 60.666666666666664], [3.7333333333333334, 74.33333333333333]]\n",
      "returning clusters....\n"
     ]
    }
   ],
   "source": [
    "result = k_mean(2, data_points, 1)"
   ]
  },
  {
   "cell_type": "code",
   "execution_count": 49,
   "metadata": {},
   "outputs": [
    {
     "name": "stdout",
     "output_type": "stream",
     "text": [
      "[[[ 1.8   54.   ]\n",
      "  [ 2.283 62.   ]\n",
      "  [ 2.883 55.   ]\n",
      "  [ 1.95  51.   ]\n",
      "  [ 1.833 54.   ]\n",
      "  [ 1.6   52.   ]\n",
      "  [ 1.75  62.   ]\n",
      "  [ 1.8   51.   ]\n",
      "  [ 2.167 52.   ]\n",
      "  [ 1.75  47.   ]]\n",
      "\n",
      " [[ 3.6   79.   ]\n",
      "  [ 3.333 74.   ]\n",
      "  [ 4.533 85.   ]\n",
      "  [ 4.7   88.   ]\n",
      "  [ 3.6   85.   ]\n",
      "  [ 4.35  85.   ]\n",
      "  [ 3.917 84.   ]\n",
      "  [ 4.2   78.   ]\n",
      "  [ 4.7   83.   ]\n",
      "  [ 4.8   84.   ]]]\n"
     ]
    }
   ],
   "source": [
    "print(np.array(result))"
   ]
  },
  {
   "cell_type": "code",
   "execution_count": 50,
   "metadata": {},
   "outputs": [
    {
     "data": {
      "image/png": "[encoded data removed]",
      "text/plain": [
       "<matplotlib.figure.Figure at 0x115ed1278>"
      ]
     },
     "metadata": {},
     "output_type": "display_data"
    }
   ],
   "source": [
    "import numpy as np\n",
    "import matplotlib.pyplot as plt\n",
    "\n",
    "x, y = np.array(result[0]).T\n",
    "plt.scatter(x, y, color='red')\n",
    "x1, y1 = np.array(result[1]).T\n",
    "plt.scatter(x1, y1, color='green')\n",
    "plt.title(\"K = 2\")\n",
    "plt.show()"
   ]
  },
  {
   "cell_type": "code",
   "execution_count": 51,
   "metadata": {},
   "outputs": [
    {
     "name": "stdout",
     "output_type": "stream",
     "text": [
      "min:  [1.6, 47.0]\n",
      "Max:  [4.8, 88.0]\n",
      "a_tilt:  [0.7999999999999999, 10.25]\n",
      "centroids: [[2.4, 57.25], [3.2, 67.5], [4.0, 77.75]]\n",
      "returning clusters....\n"
     ]
    }
   ],
   "source": [
    "result2 = k_mean(3, data_points, 1)"
   ]
  },
  {
   "cell_type": "code",
   "execution_count": 52,
   "metadata": {},
   "outputs": [
    {
     "name": "stdout",
     "output_type": "stream",
     "text": [
      "[]\n"
     ]
    }
   ],
   "source": [
    "print(result2[1])"
   ]
  },
  {
   "cell_type": "markdown",
   "metadata": {},
   "source": [
    "# We can see one of the cluster has no elements below"
   ]
  },
  {
   "cell_type": "code",
   "execution_count": 53,
   "metadata": {},
   "outputs": [
    {
     "data": {
      "image/png": "[encoded data removed]",
      "text/plain": [
       "<matplotlib.figure.Figure at 0x1165364e0>"
      ]
     },
     "metadata": {},
     "output_type": "display_data"
    }
   ],
   "source": [
    "if len(result2[0]) != 0:\n",
    "    x2, y2 = np.array(result2[0]).T\n",
    "    plt.scatter(x2, y2, color='red')\n",
    "if len(result2[1]) != 0:\n",
    "    x3, y3 = np.array(result2[1]).T\n",
    "    plt.scatter(x3, y3, color='green')\n",
    "if len(result2[2]) != 0:\n",
    "    x4, y4 = np.array(result2[2]).T\n",
    "    plt.scatter(x4, y4, color='blue')\n",
    "plt.title(\"K = 3\")\n",
    "plt.show()"
   ]
  },
  {
   "cell_type": "code",
   "execution_count": null,
   "metadata": {
    "collapsed": true
   },
   "outputs": [],
   "source": []
  }
 ],
 "metadata": {
  "kernelspec": {
   "display_name": "Python 3",
   "language": "python",
   "name": "python3"
  },
  "language_info": {
   "codemirror_mode": {
    "name": "ipython",
    "version": 3
   },
   "file_extension": ".py",
   "mimetype": "text/x-python",
   "name": "python",
   "nbconvert_exporter": "python",
   "pygments_lexer": "ipython3",
   "version": "3.6.9"
  }
 },
 "nbformat": 4,
 "nbformat_minor": 2
}
