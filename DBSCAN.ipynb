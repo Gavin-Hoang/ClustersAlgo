{
 "cells": [
  {
   "cell_type": "code",
   "execution_count": 143,
   "metadata": {
    "collapsed": true
   },
   "outputs": [],
   "source": [
    "import numpy as np \n",
    "from sklearn.cluster import DBSCAN \n",
    "from sklearn import metrics \n",
    "from sklearn.datasets.samples_generator import make_blobs \n",
    "from sklearn.preprocessing import StandardScaler \n"
   ]
  },
  {
   "cell_type": "code",
   "execution_count": null,
   "metadata": {
    "collapsed": true
   },
   "outputs": [],
   "source": []
  },
  {
   "cell_type": "code",
   "execution_count": 144,
   "metadata": {},
   "outputs": [
    {
     "name": "stdout",
     "output_type": "stream",
     "text": [
      "[[1.0, 5.0], [1.25, 5.35], [1.25, 5.75], [1.5, 6.25], [1.75, 6.75], [2.0, 6.5], [3.0, 7.75], [3.5, 8.25], [3.75, 8.75], [3.95, 9.1], [4.0, 8.5], [2.5, 7.25], [2.25, 7.75], [2.0, 6.5], [2.75, 8.25], [4.5, 8.9], [9.0, 5.0], [8.75, 5.85], [9.0, 6.25], [8.0, 7.0], [8.5, 6.25], [8.5, 6.75], [8.25, 7.65], [7.0, 8.25], [6.0, 8.75], [5.5, 8.25], [5.25, 8.75], [4.9, 8.75], [5.0, 8.5], [7.5, 7.75], [7.75, 8.25], [6.75, 8.0], [6.25, 8.25], [4.5, 8.9], [5.0, 1.0], [1.25, 4.65], [1.25, 4.25], [1.5, 3.75], [1.75, 3.25], [2.0, 3.5], [3.0, 2.25], [3.5, 1.75], [3.75, 8.75], [3.95, 0.9], [4.0, 1.5], [2.5, 2.75], [2.25, 2.25], [2.0, 3.5], [2.75, 1.75], [4.5, 1.1], [5.0, 9.0], [8.75, 5.15], [8.0, 2.25], [8.25, 3.0], [8.5, 4.75], [8.5, 4.25], [8.25, 3.35], [7.0, 1.75], [8.0, 3.5], [6.0, 1.25], [5.5, 1.75], [5.25, 1.25], [4.9, 1.25], [5.0, 1.5], [7.5, 2.25], [7.75, 2.75], [6.75, 2.0], [6.25, 1.75], [4.5, 1.1], [3.0, 4.5], [7.0, 4.5], [5.0, 3.0], [4.0, 3.35], [6.0, 3.35], [4.25, 3.25], [5.75, 3.25], [3.5, 3.75], [6.5, 3.75], [3.25, 4.0], [6.75, 4.0], [3.75, 3.55], [6.25, 3.55], [4.75, 3.05], [5.25, 3.05], [4.5, 3.15], [5.5, 3.15], [4.0, 6.5], [4.0, 6.75], [4.0, 6.25], [3.75, 6.5], [4.25, 6.5], [4.25, 6.75], [3.75, 6.25], [6.0, 6.5], [6.0, 6.75], [6.0, 6.25], [5.75, 6.75], [5.75, 6.25], [6.25, 6.75], [6.25, 6.25], [9.5, 9.5], [2.5, 9.5], [1.0, 8.0]]\n"
     ]
    }
   ],
   "source": [
    "import re\n",
    "# Note: dont change dbscan.txt locally\n",
    "fin = open(\"dbscan.txt\", \"rt\")\n",
    "points = []\n",
    "\n",
    "for line in fin:\n",
    "    strs = line[9: len(line)-3]\n",
    "    nums = strs.split(\",\")\n",
    "    for i in range(0, len(nums)): \n",
    "        nums[i] = float(nums[i]) \n",
    "    points.append(nums)\n",
    "    \n",
    "fin.close()\n",
    "print(points)\n"
   ]
  },
  {
   "cell_type": "code",
   "execution_count": 163,
   "metadata": {
    "collapsed": true
   },
   "outputs": [],
   "source": [
    "# Plot result \n",
    "import matplotlib.pyplot as plt \n",
    "def MY_DBSCAN(ep, min_sample):\n",
    "    X = np.array(points) # convert to np nd array\n",
    "    db = DBSCAN(eps=ep, min_samples=min_sample).fit(X) # now get the scan algorithm to work\n",
    "    core_samples_mask = np.zeros_like(db.labels_, dtype=bool) \n",
    "    core_samples_mask[db.core_sample_indices_] = True\n",
    "    labels = db.labels_ \n",
    "    # Get the number of clusters in labels, we want to ignore noise if present. \n",
    "    n_clusters_ = len(set(labels)) - (1 if -1 in labels else 0)\n",
    "\n",
    "    unique_labels = set(labels) \n",
    "    for k, col in zip(unique_labels, colors): \n",
    "        if k == -1: \n",
    "            # Black used for noise. \n",
    "            col = 'k'\n",
    "\n",
    "        class_member_mask = (labels == k) \n",
    "\n",
    "        xy = X[class_member_mask & core_samples_mask] \n",
    "        plt.plot(xy[:, 0], xy[:, 1], 'o', markerfacecolor=col, \n",
    "                                          markeredgecolor='k',  \n",
    "                                          markersize=6) \n",
    "\n",
    "        xy = X[class_member_mask & ~core_samples_mask] \n",
    "        plt.plot(xy[:, 0], xy[:, 1], 'o', markerfacecolor=col, \n",
    "                                          markeredgecolor='k', \n",
    "                                          markersize=6) \n",
    "\n",
    "#     plt.title('number of clusters: %d' %n_clusters_) \n",
    "    plt.show()\n",
    "    outlier_detection = DBSCAN(\n",
    "      eps = ep,\n",
    "      metric=\"euclidean\",\n",
    "      min_samples = min_sample,\n",
    "      n_jobs = -1)\n",
    "    clusters = outlier_detection.fit_predict(X)\n",
    "    print(clusters) # to see outliers values: -1\n",
    "    \n",
    "    n_outliers = 0;\n",
    "    for ele in clusters:\n",
    "        if ele == -1:\n",
    "            n_outliers += 1\n",
    "    print(colors) \n",
    "    print('number of clusters: %d' %n_clusters_)\n",
    "    print('number of outliers: %d' %n_outliers)\n",
    "    "
   ]
  },
  {
   "cell_type": "code",
   "execution_count": 171,
   "metadata": {},
   "outputs": [
    {
     "data": {
      "image/png": "[encoded data removed]",
      "text/plain": [
       "<matplotlib.figure.Figure at 0x1a12c9ef98>"
      ]
     },
     "metadata": {},
     "output_type": "display_data"
    },
    {
     "name": "stdout",
     "output_type": "stream",
     "text": [
      "[ 0  0  0  0  0  0 -1  1  1  1  1 -1 -1  0 -1  1  2  3  3  3  3  3 -1  4\n",
      "  4  1  1  1  1 -1 -1  4  4  1  5  0  0  0  0  0 -1 -1  1  5 -1 -1 -1  0\n",
      " -1  5  1  2  6  6  2  2  6  7  6  7  5  5  5  5  6  6  7  7  5  8  8  8\n",
      "  8  8  8  8  8  8  8  8  8  8  8  8  8  8  9  9  9  9  9  9  9 10 10 10\n",
      " 10 10 10 10 -1 -1 -1]\n",
      "['y', 'b', 'g', 'r']\n",
      "number of clusters: 11\n",
      "number of outliers: 16\n"
     ]
    }
   ],
   "source": [
    "MY_DBSCAN(0.6, 3)"
   ]
  },
  {
   "cell_type": "code",
   "execution_count": 170,
   "metadata": {},
   "outputs": [
    {
     "data": {
      "image/png": "[encoded data removed]",
      "text/plain": [
       "<matplotlib.figure.Figure at 0x1a12c9ee48>"
      ]
     },
     "metadata": {},
     "output_type": "display_data"
    },
    {
     "name": "stdout",
     "output_type": "stream",
     "text": [
      "[ 0  0  0  1  1  1  2  2  2  2  2  2  2  1  2  2  3  3  3  3  3  3 -1  2\n",
      "  2  2  2  2  2  2  2  2  2  2  4  0  0  5  5  5  4  4  2  4  4  4  4  5\n",
      "  4  4  2  3  4  4  3  3  4  4  4  4  4  4  4  4  4  4  4  4  4  6  6  6\n",
      "  6  6  6  6  6  6  6  6  6  6  6  6  6  6  7  7  7  7  7  7  7  8  8  8\n",
      "  8  8  8  8 -1 -1 -1]\n",
      "['y', 'b', 'g', 'r']\n",
      "number of clusters: 9\n",
      "number of outliers: 4\n"
     ]
    }
   ],
   "source": [
    "MY_DBSCAN(0.75, 4)"
   ]
  },
  {
   "cell_type": "code",
   "execution_count": 169,
   "metadata": {},
   "outputs": [
    {
     "data": {
      "image/png": "[encoded data removed]",
      "text/plain": [
       "<matplotlib.figure.Figure at 0x1a14d7a8d0>"
      ]
     },
     "metadata": {},
     "output_type": "display_data"
    },
    {
     "name": "stdout",
     "output_type": "stream",
     "text": [
      "[ 0  0  0  0  0  0  0  0  0  0  0  0  0  0  0  0  0  0  0  0  0  0  0  0\n",
      "  0  0  0  0  0  0  0  0  0  0  0  0  0  0  0  0  0  0  0  0  0  0  0  0\n",
      "  0  0  0  0  0  0  0  0  0  0  0  0  0  0  0  0  0  0  0  0  0  1  1  1\n",
      "  1  1  1  1  1  1  1  1  1  1  1  1  1  1  2  2  2  2  2  2  2  3  3  3\n",
      "  3  3  3  3 -1 -1 -1]\n",
      "['y', 'b', 'g', 'r']\n",
      "number of clusters: 4\n",
      "number of outliers: 3\n"
     ]
    }
   ],
   "source": [
    "MY_DBSCAN(1.0, 5)"
   ]
  },
  {
   "cell_type": "code",
   "execution_count": 168,
   "metadata": {},
   "outputs": [
    {
     "data": {
      "image/png": "[encoded data removed]",
      "text/plain": [
       "<matplotlib.figure.Figure at 0x1a153d2828>"
      ]
     },
     "metadata": {},
     "output_type": "display_data"
    },
    {
     "name": "stdout",
     "output_type": "stream",
     "text": [
      "[ 0  0  0  0  0  0  0  0  0  0  0  0  0  0  0  0  0  0  0  0  0  0  0  0\n",
      "  0  0  0  0  0  0  0  0  0  0  0  0  0  0  0  0  0  0  0  0  0  0  0  0\n",
      "  0  0  0  0  0  0  0  0  0  0  0  0  0  0  0  0  0  0  0  0  0  0  0  0\n",
      "  0  0  0  0  0  0  0  0  0  0  0  0  0  0  0  0  0  0  0  0  0  0  0  0\n",
      "  0  0  0  0 -1  0  0]\n",
      "['y', 'b', 'g', 'r']\n",
      "number of clusters: 1\n",
      "number of outliers: 1\n"
     ]
    }
   ],
   "source": [
    "MY_DBSCAN(2.0, 10)"
   ]
  },
  {
   "cell_type": "code",
   "execution_count": null,
   "metadata": {
    "collapsed": true
   },
   "outputs": [],
   "source": []
  },
  {
   "cell_type": "code",
   "execution_count": null,
   "metadata": {
    "collapsed": true
   },
   "outputs": [],
   "source": []
  },
  {
   "cell_type": "code",
   "execution_count": null,
   "metadata": {
    "collapsed": true
   },
   "outputs": [],
   "source": []
  },
  {
   "cell_type": "code",
   "execution_count": null,
   "metadata": {
    "collapsed": true
   },
   "outputs": [],
   "source": [
    "# source help: https://www.geeksforgeeks.org/dbscan-clustering-in-ml-density-based-clustering/"
   ]
  }
 ],
 "metadata": {
  "kernelspec": {
   "display_name": "Python 3",
   "language": "python",
   "name": "python3"
  },
  "language_info": {
   "codemirror_mode": {
    "name": "ipython",
    "version": 3
   },
   "file_extension": ".py",
   "mimetype": "text/x-python",
   "name": "python",
   "nbconvert_exporter": "python",
   "pygments_lexer": "ipython3",
   "version": "3.6.9"
  }
 },
 "nbformat": 4,
 "nbformat_minor": 2
}
